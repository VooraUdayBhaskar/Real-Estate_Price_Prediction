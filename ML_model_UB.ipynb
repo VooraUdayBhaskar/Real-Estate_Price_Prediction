{
 "cells": [
  {
   "cell_type": "markdown",
   "id": "d10b4445-12e5-46fb-95ac-fdd7c68b189c",
   "metadata": {},
   "source": [
    "### Machine Learning model \n",
    "ARIMA Model"
   ]
  },
  {
   "cell_type": "markdown",
   "id": "f9b104e6-82e1-4987-b169-3542e0d47193",
   "metadata": {},
   "source": [
    "### COntributions\n",
    "Anuraag Reddy <br>\n",
    "Sujaya Dahagam"
   ]
  },
  {
   "cell_type": "markdown",
   "id": "3ca28830-aaea-436f-8daf-64280cd81d60",
   "metadata": {},
   "source": [
    "Fits an ARIMA model with predefined parameters to forecast average property prices.<br>\n",
    "Calculates the Root Mean Square Error (RMSE) to assess model accuracy.<br>\n",
    "DOnw below is the output that shows the RMSE and the last five predicted values from the model."
   ]
  },
  {
   "cell_type": "code",
   "execution_count": 30,
   "id": "36e3ac66-9b21-45e4-9ceb-87e153ddda54",
   "metadata": {},
   "outputs": [
    {
     "name": "stdout",
     "output_type": "stream",
     "text": [
      "RMSE: 19526.479958104628\n",
      "Last 5 Predicted Prices:\n",
      "2023-05-31    264296.655839\n",
      "2023-06-30    264296.655839\n",
      "2023-07-31    264296.655839\n",
      "2023-08-31    264296.655839\n",
      "2023-09-30    264296.655839\n",
      "Freq: M, Name: predicted_mean, dtype: float64\n"
     ]
    }
   ],
   "source": [
    "import pandas as pd\n",
    "import numpy as np\n",
    "from statsmodels.tsa.arima.model import ARIMA\n",
    "from sklearn.metrics import mean_squared_error\n",
    "from math import sqrt\n",
    "import warnings\n",
    "from statsmodels.tools.sm_exceptions import ValueWarning\n",
    "with warnings.catch_warnings():\n",
    "    warnings.simplefilter(\"ignore\",ValueWarning)\n",
    "\n",
    "# Load the dataset\n",
    "file_path = 'C:/Users/udayv/Downloads/zillow_dataset_2023.csv' \n",
    "df = pd.read_csv(file_path)\n",
    "\n",
    "# Filter data for Chicago\n",
    "chicago_data = df[df['City'] == 'Chicago']\n",
    "\n",
    "# Assume we are interested in average price across all zip codes in Chicago\n",
    "chicago_prices = chicago_data.iloc[:, 9:].mean()\n",
    "\n",
    "# Converting to a time series\n",
    "chicago_ts = pd.Series(chicago_prices)\n",
    "chicago_ts.index = pd.to_datetime(chicago_ts.index)\n",
    "chicago_ts = chicago_ts.asfreq('M')\n",
    "\n",
    "# Splitting the data into train and test sets\n",
    "train_size = int(len(chicago_ts) * 0.8)\n",
    "train, test = chicago_ts[0:train_size], chicago_ts[train_size:]\n",
    "\n",
    "# Fit an ARIMA model (order (p,d,q) should be chosen based on data analysis)\n",
    "model = ARIMA(train, order=(5,1,0))\n",
    "model_fit = model.fit()\n",
    "\n",
    "# Forecast\n",
    "forecast = model_fit.forecast(steps=len(test))\n",
    "\n",
    "# Calculate RMSE for accuracy test\n",
    "rmse = sqrt(mean_squared_error(test, forecast))\n",
    "\n",
    "# Print RMSE and the last 5 predicted values\n",
    "print(f'RMSE: {rmse}')\n",
    "print(f'Last 5 Predicted Prices:\\n{forecast[-5:]}')\n"
   ]
  },
  {
   "cell_type": "code",
   "execution_count": 31,
   "id": "a494a50d-4100-4a9c-84f1-27d3c6a2576b",
   "metadata": {},
   "outputs": [
    {
     "name": "stdout",
     "output_type": "stream",
     "text": [
      "RMSE: 19526.479958104628\n",
      "MAPE: 5.493129796387295%\n"
     ]
    }
   ],
   "source": [
    "#chicago_ts = chicago_ts.asfreq('M')  # Set frequency to monthly\n",
    "def calculate_mape(actual, forecast):\n",
    "    \"\"\"Calculate Mean Absolute Percentage Error.\"\"\"\n",
    "    return np.mean(np.abs((actual - forecast) / actual)) * 100\n",
    "\n",
    "# Load the dataset\n",
    "file_path = 'C:/Users/udayv/Downloads/zillow_dataset_2023.csv'  \n",
    "df = pd.read_csv(file_path)\n",
    "\n",
    "# Filter data for Chicago\n",
    "chicago_data = df[df['City'] == 'Chicago']\n",
    "chicago_prices = chicago_data.iloc[:, 9:].mean()\n",
    "chicago_ts = pd.Series(chicago_prices)\n",
    "chicago_ts.index = pd.to_datetime(chicago_ts.index)\n",
    "chicago_ts = chicago_ts.asfreq('M')\n",
    "\n",
    "# Splitting the data into train and test sets\n",
    "train_size = int(len(chicago_ts) * 0.8)\n",
    "train, test = chicago_ts[0:train_size], chicago_ts[train_size:]\n",
    "\n",
    "# Fit an ARIMA model\n",
    "model = ARIMA(train, order=(5,1,0))\n",
    "model_fit = model.fit()\n",
    "\n",
    "# Forecast\n",
    "forecast = model_fit.forecast(steps=len(test))\n",
    "\n",
    "# Calculate RMSE and MAPE\n",
    "rmse = sqrt(mean_squared_error(test, forecast))\n",
    "mape = calculate_mape(test, forecast)\n",
    "\n",
    "# Print RMSE and MAPE\n",
    "print(f'RMSE: {rmse}')\n",
    "print(f'MAPE: {mape}%')\n"
   ]
  },
  {
   "cell_type": "markdown",
   "id": "d186e8d6-bd65-45fe-8a78-d3e9fd545d0f",
   "metadata": {},
   "source": [
    "We will try improving the model accuracy using SARIMAX \n",
    "We use auto arima to find the best ARIMA model parameters\n",
    "You can see the actual vs the predicted values in the output section"
   ]
  },
  {
   "cell_type": "code",
   "execution_count": 32,
   "id": "43296305-ef72-4410-9c34-912f34af9b99",
   "metadata": {},
   "outputs": [
    {
     "name": "stdout",
     "output_type": "stream",
     "text": [
      "Performing stepwise search to minimize aic\n",
      " ARIMA(1,1,1)(0,1,1)[12]             : AIC=3757.825, Time=2.18 sec\n",
      " ARIMA(0,1,0)(0,1,0)[12]             : AIC=3773.541, Time=0.06 sec\n",
      " ARIMA(1,1,0)(1,1,0)[12]             : AIC=3775.407, Time=0.94 sec\n",
      " ARIMA(0,1,1)(0,1,1)[12]             : AIC=3776.259, Time=0.44 sec\n",
      " ARIMA(1,1,1)(0,1,0)[12]             : AIC=3756.831, Time=0.47 sec\n",
      " ARIMA(1,1,1)(1,1,0)[12]             : AIC=3757.869, Time=1.73 sec\n",
      " ARIMA(1,1,1)(1,1,1)[12]             : AIC=3757.186, Time=2.65 sec\n",
      " ARIMA(0,1,1)(0,1,0)[12]             : AIC=3774.286, Time=0.10 sec\n",
      " ARIMA(1,1,0)(0,1,0)[12]             : AIC=3773.427, Time=0.24 sec\n",
      " ARIMA(2,1,1)(0,1,0)[12]             : AIC=3758.712, Time=0.89 sec\n",
      " ARIMA(1,1,2)(0,1,0)[12]             : AIC=3758.711, Time=0.81 sec\n",
      " ARIMA(0,1,2)(0,1,0)[12]             : AIC=3776.963, Time=0.15 sec\n",
      " ARIMA(2,1,0)(0,1,0)[12]             : AIC=3773.140, Time=0.44 sec\n",
      " ARIMA(2,1,2)(0,1,0)[12]             : AIC=inf, Time=1.16 sec\n",
      " ARIMA(1,1,1)(0,1,0)[12] intercept   : AIC=3758.535, Time=0.91 sec\n",
      "\n",
      "Best model:  ARIMA(1,1,1)(0,1,0)[12]          \n",
      "Total fit time: 13.189 seconds\n",
      "                                      SARIMAX Results                                      \n",
      "===========================================================================================\n",
      "Dep. Variable:                                   y   No. Observations:                  228\n",
      "Model:             SARIMAX(1, 1, 1)x(0, 1, [], 12)   Log Likelihood               -1875.416\n",
      "Date:                             Fri, 10 Nov 2023   AIC                           3756.831\n",
      "Time:                                     23:27:06   BIC                           3766.943\n",
      "Sample:                                 01-31-2000   HQIC                          3760.917\n",
      "                                      - 12-31-2018                                         \n",
      "Covariance Type:                               opg                                         \n",
      "==============================================================================\n",
      "                 coef    std err          z      P>|z|      [0.025      0.975]\n",
      "------------------------------------------------------------------------------\n",
      "ar.L1          0.9435      0.025     37.051      0.000       0.894       0.993\n",
      "ma.L1         -0.9034      0.024    -37.015      0.000      -0.951      -0.856\n",
      "sigma2      2.147e+06   1.26e+05     16.982      0.000     1.9e+06    2.39e+06\n",
      "===================================================================================\n",
      "Ljung-Box (L1) (Q):                  62.06   Jarque-Bera (JB):                91.30\n",
      "Prob(Q):                              0.00   Prob(JB):                         0.00\n",
      "Heteroskedasticity (H):               3.20   Skew:                             0.10\n",
      "Prob(H) (two-sided):                  0.00   Kurtosis:                         6.19\n",
      "===================================================================================\n",
      "\n",
      "Warnings:\n",
      "[1] Covariance matrix calculated using the outer product of gradients (complex-step).\n",
      "Improved RMSE: 15669.539305641561\n",
      "Improved MAPE: 4.394896777723766%\n",
      "             Actual Value  Predicted Value\n",
      "2019-01-31  264997.180767    265430.945257\n",
      "2019-02-28  265953.330881    266774.522552\n",
      "2019-03-31  266544.173525    268856.310318\n",
      "2019-04-30  266895.643093    270762.994394\n",
      "2019-05-31  266471.495370    271813.696176\n"
     ]
    }
   ],
   "source": [
    "# Load your dataset\n",
    "#file_path = 'C:/Users/udayv/Downloads/zillow_dataset_2023.csv'\n",
    "\n",
    "best_model = auto_arima(train, start_p=1, start_q=1,\n",
    "                        max_p=5, max_q=5, m=12,\n",
    "                        start_P=0, seasonal=True,\n",
    "                        d=None, D=1, trace=True,\n",
    "                        error_action='ignore',  \n",
    "                        suppress_warnings=True, \n",
    "                        stepwise=True)\n",
    "\n",
    "print(best_model.summary())\n",
    "\n",
    "# Fit the best SARIMAX model (which includes ARIMA)\n",
    "model = SARIMAX(train, \n",
    "                order=best_model.order, \n",
    "                seasonal_order=best_model.seasonal_order)\n",
    "model_fit = model.fit()\n",
    "\n",
    "# Forecast\n",
    "forecast = model_fit.forecast(steps=len(test))\n",
    "\n",
    "# Combine actual and forecasted values into a DataFrame for comparison\n",
    "improved_comparison_df = pd.DataFrame({'Actual Value': test, 'Predicted Value': forecast})\n",
    "\n",
    "# Calculate RMSE and MAPE for the improved model\n",
    "rmse_improved = sqrt(mean_squared_error(test, forecast))\n",
    "mape_improved = np.mean(np.abs((test - forecast) / test)) * 100\n",
    "\n",
    "# Print the improved metrics\n",
    "print(f'Improved RMSE: {rmse_improved}')\n",
    "print(f'Improved MAPE: {mape_improved}%')\n",
    "\n",
    "# Print the first few rows of the comparison DataFrame\n",
    "print(improved_comparison_df.head())\n"
   ]
  },
  {
   "cell_type": "markdown",
   "id": "b4604f81-42c6-4653-8041-9f8374593d2e",
   "metadata": {},
   "source": [
    "AS you can see above we have trained the model and our further work will be to focus on accuarcy of the mdoel part and also try\n",
    "for diffrent varibales id the time permits.\n"
   ]
  },
  {
   "cell_type": "markdown",
   "id": "1813fa7d-be63-4177-9490-2870f8da05f2",
   "metadata": {},
   "source": [
    "Link to the github repository -> https://github.com/VooraUdayBhaskar/Real-Estate_Price_Prediction"
   ]
  }
 ],
 "metadata": {
  "kernelspec": {
   "display_name": "Python 3 (ipykernel)",
   "language": "python",
   "name": "python3"
  },
  "language_info": {
   "codemirror_mode": {
    "name": "ipython",
    "version": 3
   },
   "file_extension": ".py",
   "mimetype": "text/x-python",
   "name": "python",
   "nbconvert_exporter": "python",
   "pygments_lexer": "ipython3",
   "version": "3.12.0"
  }
 },
 "nbformat": 4,
 "nbformat_minor": 5
}
